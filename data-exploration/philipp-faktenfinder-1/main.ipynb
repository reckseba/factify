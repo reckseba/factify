{
 "cells": [
  {
   "cell_type": "code",
   "execution_count": 24,
   "id": "02b7ac73-1f30-4a0e-80fd-7f1ebad2354a",
   "metadata": {},
   "outputs": [],
   "source": [
    "import pandas as pd\n",
    "import requests\n",
    "from lxml import html\n",
    "import re\n",
    "from pydantic import BaseModel\n",
    "from openai import OpenAI\n",
    "from datetime import datetime\n",
    "\n",
    "url_news = \"https://www.tagesschau.de/api2u/news?ressort=Faktenfinder\""
   ]
  },
  {
   "cell_type": "code",
   "execution_count": 2,
   "id": "aeeda6fa-89b0-4310-b9f7-eabd9f8cfa05",
   "metadata": {},
   "outputs": [
    {
     "name": "stdout",
     "output_type": "stream",
     "text": [
      "200\n",
      "\t dict_keys(['news', 'regional', 'newStoriesCountLink', 'type'])\n",
      "\t dict_keys(['sophoraId', 'externalId', 'title', 'date', 'teaserImage', 'tags', 'updateCheckUrl', 'tracking', 'topline', 'firstSentence', 'details', 'detailsweb', 'shareURL', 'geotags', 'regionId', 'regionIds', 'ressort', 'breakingNews', 'type'])\n",
      "\t 14\n",
      "\n"
     ]
    }
   ],
   "source": [
    "response = requests.get(url_news)\n",
    "\n",
    "print(response.status_code)\n",
    "\n",
    "if response.status_code == 200:\n",
    "    payload = response.json()\n",
    "    print(\"\\t\", payload.keys())\n",
    "    print(\"\\t\", payload[\"news\"][0].keys())\n",
    "    print(\"\\t\", len(payload[\"news\"]))\n",
    "    print(\"\")\n",
    "    df_news = pd.DataFrame(data=payload[\"news\"])\n",
    "\n",
    "else:\n",
    "    print(\"error:\", response.status_code)"
   ]
  },
  {
   "cell_type": "code",
   "execution_count": 70,
   "id": "03176f41-354c-407c-a432-d2687cdbd90f",
   "metadata": {},
   "outputs": [],
   "source": [
    "df_news.to_csv(\"alle-news\"+datetime.now().isoformat()[:19] + \".csv\")"
   ]
  },
  {
   "cell_type": "code",
   "execution_count": 3,
   "id": "f1968419-6dfc-4eab-b5c2-44f455e4fc07",
   "metadata": {},
   "outputs": [
    {
     "data": {
      "text/plain": [
       "(14,)"
      ]
     },
     "execution_count": 3,
     "metadata": {},
     "output_type": "execute_result"
    }
   ],
   "source": [
    "df_news.shareURL.shape"
   ]
  },
  {
   "cell_type": "code",
   "execution_count": 20,
   "id": "83fbe614-aa82-43e0-afbf-2dcf6dc680d7",
   "metadata": {},
   "outputs": [
    {
     "name": "stdout",
     "output_type": "stream",
     "text": [
      "https://www.tagesschau.de/faktenfinder/farbebekennen-habeck-100.html\n",
      "https://www.tagesschau.de/faktenfinder/farbebekennen-weidel-faktencheck-100.html\n",
      "https://www.tagesschau.de/faktenfinder/wahlarena-aussagen-faktencheck-100.html\n",
      "https://www.tagesschau.de/faktenfinder/windenergie-falschbehauptungen-100.html\n",
      "https://www.tagesschau.de/faktenfinder/merz-scholz-faktencheck-100.html\n",
      "https://www.tagesschau.de/faktenfinder/kontext/russland-desinformation-110.html\n",
      "https://www.tagesschau.de/faktenfinder/usa-usaid-fakes-100.html\n",
      "https://www.tagesschau.de/faktenfinder/kontext/rechte-ki-influencer-100.html\n",
      "https://www.tagesschau.de/faktenfinder/musk-weidel-102.html\n",
      "https://www.tagesschau.de/faktenfinder/kontext/merz-cdu-migration-kasernen-100.html\n",
      "https://www.tagesschau.de/faktenfinder/bundestagswahl-2025-fakes-100.html\n",
      "https://www.tagesschau.de/faktenfinder/ki-fakes-tagesschau-100.html\n",
      "https://www.tagesschau.de/faktenfinder/kontext/musk-x-bundestagswahl-100.html\n",
      "https://www.tagesschau.de/faktenfinder/kontext/russland-doppelgaengerkampagne-100.html\n"
     ]
    }
   ],
   "source": [
    "xpath_to_article = \"/html/body/div/main/div/div/article\"\n",
    "\n",
    "with open(\"key.txt\", \"r\") as key_file:\n",
    "    openai_key = key_file.read()\n",
    "\n",
    "alle_faktenchecks = []\n",
    "\n",
    "\n",
    "class Faktencheck(BaseModel):\n",
    "    person: str\n",
    "    claim: str\n",
    "    correct: bool\n",
    "    explanation: str\n",
    "\n",
    "class Faktencheckliste(BaseModel):\n",
    "    faktenchecks: list[Faktencheck]\n",
    "\n",
    "\n",
    "for shareURL in df_news.shareURL:\n",
    "    print(shareURL)\n",
    "\n",
    "    # fetch raw article\n",
    "    response = requests.get(shareURL)\n",
    "\n",
    "    # clean up article\n",
    "    tree = html.fromstring(response.content)\n",
    "    elements = tree.xpath(xpath_to_article)\n",
    "\n",
    "    if elements:\n",
    "        article = elements[0]\n",
    "        # Remove all <script> tags within the article element\n",
    "        for script in article.xpath('.//script'):\n",
    "            script.getparent().remove(script)\n",
    "\n",
    "        # Extract text and normalize whitespace\n",
    "        text = article.text_content()\n",
    "        text = re.sub(r'\\s+', ' ', text).strip()\n",
    "    else:\n",
    "        print(shareURL)\n",
    "        print(\"Element not found.\")\n",
    "        continue\n",
    "\n",
    "\n",
    "    # summarize by openai in a structured data format\n",
    "    client = OpenAI(api_key=openai_key)\n",
    "\n",
    "\n",
    "\n",
    "    completion = client.beta.chat.completions.parse(\n",
    "        model=\"gpt-4o-2024-08-06\",\n",
    "        messages=[\n",
    "            {\"role\": \"system\", \"content\": \"Du bist eine neutrale Redaktion, die den Faktencheck zusammenfasst.\"},\n",
    "            {\"role\": \"user\", \"content\": r\"Fass den Artikel so zusammen, dass du für jeden claim die person, ob es correct ist und was die Erklärung ist aus dem Artikel zusammenfasst. Sei kurz und knapp. Bleib bei dem was der Text sagt: \\n\\n\" + text}\n",
    "        ],\n",
    "        response_format=Faktencheckliste,\n",
    "    )\n",
    "    \n",
    "    faktencheckliste = completion.choices[0].message.parsed\n",
    "\n",
    "    alle_faktenchecks.extend(faktencheckliste.model_dump()[\"faktenchecks\"])"
   ]
  },
  {
   "cell_type": "code",
   "execution_count": 29,
   "id": "014954c6-678e-44b8-9cba-2984b828cd14",
   "metadata": {},
   "outputs": [],
   "source": [
    "df = pd.DataFrame(alle_faktenchecks)\n",
    "df.to_csv(\"alle-personen-\"datetime.now().isoformat()[:19] + \".csv\")"
   ]
  },
  {
   "cell_type": "code",
   "execution_count": 38,
   "id": "1d745941-3b72-4cdb-af47-24982ab6cc26",
   "metadata": {},
   "outputs": [
    {
     "data": {
      "text/plain": [
       "person\n",
       "AfD                                                     100.0\n",
       "AfD Mayen-Koblenz                                         0.0\n",
       "Alice Weidel                                              5.0\n",
       "Anna Hiller                                             100.0\n",
       "ArrivalAid Stuttgart                                    100.0\n",
       "Bundesanstalt für Immobilienaufgaben (BImA)             100.0\n",
       "Carla Reveland                                            0.0\n",
       "CeMAS (Center für Monitoring, Analyse und Strategie)    100.0\n",
       "Christoph Maerz                                         100.0\n",
       "Deborah Schnabel                                        100.0\n",
       "Donald Trump                                              0.0\n",
       "Donald Trump Jr. und Elon Musk                            0.0\n",
       "Elon Musk                                                14.0\n",
       "Friedrich Merz                                            0.0\n",
       "Fälschung über Steinmeier                                 0.0\n",
       "Josef Holnburger                                          0.0\n",
       "Karl Lauterbach                                         100.0\n",
       "Kilian Umbach (Migrationsforscher)                      100.0\n",
       "Konstantin von Notz                                       0.0\n",
       "Lea Frühwirth                                           100.0\n",
       "Marcus Bornheim                                           0.0\n",
       "Maximilian Krah (AfD)                                     0.0\n",
       "Olaf Scholz                                              75.0\n",
       "Ralf Beste                                              100.0\n",
       "Robert Habeck                                            75.0\n",
       "Simone Rafael                                           100.0\n",
       "Unbekannt                                               100.0\n",
       "Vera Schmitt                                            100.0\n",
       "Name: correct, dtype: float64"
      ]
     },
     "execution_count": 38,
     "metadata": {},
     "output_type": "execute_result"
    }
   ],
   "source": [
    "round(df.groupby(\"person\")['correct'].mean() * 100)"
   ]
  },
  {
   "cell_type": "code",
   "execution_count": 64,
   "id": "7da66528-732f-46cc-9350-b599e009870d",
   "metadata": {},
   "outputs": [
    {
     "data": {
      "text/plain": [
       "person\n",
       "Alice Weidel             5.0\n",
       "Donald Trump             0.0\n",
       "Elon Musk               14.0\n",
       "Friedrich Merz           0.0\n",
       "Karl Lauterbach        100.0\n",
       "Konstantin von Notz      0.0\n",
       "Olaf Scholz             75.0\n",
       "Robert Habeck           75.0\n",
       "Name: correct, dtype: float64"
      ]
     },
     "execution_count": 64,
     "metadata": {},
     "output_type": "execute_result"
    }
   ],
   "source": [
    "relevant_persons =[\"Alice Weidel\", \"Donald Trump\", \"Elon Musk\", \"Friedrich Merz\", \"Karl Lauterbach\", \"Konstantin von Notz\", \"Olaf Scholz\", \"Robert Habeck\"]\n",
    "mask_relevant_persons = df.person.isin(relevant_persons)\n",
    "round(df[mask_relevant_persons].groupby(\"person\")['correct'].mean() * 100)"
   ]
  },
  {
   "cell_type": "code",
   "execution_count": 65,
   "id": "fe34cc46-462a-498b-90a4-c0f7bf34b48a",
   "metadata": {},
   "outputs": [
    {
     "data": {
      "text/plain": [
       "person\n",
       "Alice Weidel           19\n",
       "Donald Trump            2\n",
       "Elon Musk               7\n",
       "Friedrich Merz          5\n",
       "Karl Lauterbach         1\n",
       "Konstantin von Notz     1\n",
       "Olaf Scholz             4\n",
       "Robert Habeck           4\n",
       "Name: correct, dtype: int64"
      ]
     },
     "execution_count": 65,
     "metadata": {},
     "output_type": "execute_result"
    }
   ],
   "source": [
    "df[mask_relevant_persons].groupby(\"person\")[\"correct\"].count()"
   ]
  },
  {
   "cell_type": "code",
   "execution_count": 66,
   "id": "f8f2db5c-6311-4640-ab54-40d460a0869b",
   "metadata": {},
   "outputs": [],
   "source": [
    "df[mask_relevant_persons].to_csv(\"relevante-personen\"+datetime.now().isoformat()[:19] + \".csv\")"
   ]
  },
  {
   "cell_type": "code",
   "execution_count": 67,
   "id": "8ba800e1-7169-4116-9530-472778e262bb",
   "metadata": {},
   "outputs": [],
   "source": [
    "def emojify_correct(correct):\n",
    "    if correct:\n",
    "        return \"✅\"\n",
    "    return \"❌\""
   ]
  },
  {
   "cell_type": "code",
   "execution_count": 68,
   "id": "11d2a461-7bfe-42f0-891a-2964c7426bd8",
   "metadata": {},
   "outputs": [
    {
     "name": "stdout",
     "output_type": "stream",
     "text": [
      "Robert Habeck\n",
      "✅ Wehrpflicht nach skandinavischem Vorbild sei machbar und setze auf Freiwilligkeit.\n",
      "ℹ️ Christian Richter erklärt, eine Auswahlwehrpflicht ist mit dem Grundgesetz vereinbar. Die Freiwilligkeit ist in Skandinavien eingeschränkt, da ein Musterungsbogen verpflichtend ist. \n",
      "\n",
      "\n",
      "Robert Habeck\n",
      "✅ Fossile Energien sind Kostentreiber im Stromsystem.\n",
      "ℹ️ Bruno Burger bestätigt, dass fossile Energien wegen des Merit-Order-Prinzips die Strompreise in die Höhe treiben. Gaskraftwerke sind teuer und bestimmen oft den Strompreis. \n",
      "\n",
      "\n",
      "Robert Habeck\n",
      "❌ Die Union kündigt alle notwendigen Klimamaßnahmen auf.\n",
      "ℹ️ Die Union plant, Maßnahmen aufzugeben, aber gleichzeitig den CO2-Preis als Leitinstrument zu nutzen. Ihr Programm wird als inkonsistent beschrieben. \n",
      "\n",
      "\n",
      "Alice Weidel\n",
      "❌ Deutschland hat die höchsten Energiepreise weltweit.\n",
      "ℹ️ Deutschland hat hohe Energiepreise, aber sie sind nicht die höchsten weltweit. Laut Global Petrol Prices liegt Deutschland je nach Energieart zwischen den Plätzen 3 und 21 im weltweiten Vergleich. \n",
      "\n",
      "\n",
      "Alice Weidel\n",
      "❌ Ein Wiedereinstieg in die Atomenergie würde zu sinkenden Strompreisen führen.\n",
      "ℹ️ Atomenergie ist langfristig teuer und wirtschaftlich uninteressant aufgrund hoher Kosten am Anfang und Ende des Lebenszyklus von AKWs. Kein Atomkraftwerk rechnet sich ökonomisch, und viele Investitionen wären notwendig. \n",
      "\n",
      "\n",
      "Alice Weidel\n",
      "❌ Atomkraft ist CO2-neutral.\n",
      "ℹ️ Atomkraftwerke sind nicht vollständig CO2-neutral. Obwohl beim Betrieb keine CO2-Emissionen entstehen, gibt es erhebliche Emissionen in den vor- und nachgelagerten Prozessen wie Uranabbau und Endlagerung. \n",
      "\n",
      "\n",
      "Alice Weidel\n",
      "❌ Deutschland hat die höchste Insolvenzrate seit 25 Jahren.\n",
      "ℹ️ Die aktuelle Insolvenzrate beträgt 72 Insolvenzen je 10.000 Unternehmen, weit entfernt vom Höchststand 2003 mit 135 je 10.000. \n",
      "\n",
      "\n",
      "Alice Weidel\n",
      "❌ Deutschland hat die höchsten Energiepreise weltweit.\n",
      "ℹ️ Deutschland belegt bei Strompreisen Platz 15 für Unternehmen und Platz 3 für Haushalte, bei Gaspreisen Platz 13 für Unternehmen und Platz 14 für Haushalte. \n",
      "\n",
      "\n",
      "Alice Weidel\n",
      "❌ Die EU-Kommission ist nicht gewählt und sollte nicht über nationale Angelegenheiten entscheiden.\n",
      "ℹ️ Der Präsident der EU-Kommission wird vorgeschlagen und vom Europäischen Parlament gewählt, und das EU-Parlament setzt sich aus gewählten Vertretern zusammen. \n",
      "\n",
      "\n",
      "Friedrich Merz\n",
      "❌ 1,8 Millionen erwerbsfähige Bürgergeldempfänger würden unter ihm kein Geld mehr bekommen, wenn sie nicht arbeiten.\n",
      "ℹ️ Zwar gibt es 1,8 Millionen Empfänger, jedoch haben viele Vermittlungshemmnisse. Es gibt nur rund 16.000 sogenannte Totalverweigerer. \n",
      "\n",
      "\n",
      "Robert Habeck\n",
      "✅ Wärmepumpen sind nach staatlicher Förderung auf Dauer günstiger als Gasheizungen.\n",
      "ℹ️ Die Wirtschaftlichkeit ist von Faktoren wie CO2-Preisen abhängig. Studien zeigen, dass Wärmepumpen langfristig wirtschaftlich sinnvoll sind. \n",
      "\n",
      "\n",
      "Olaf Scholz\n",
      "✅ Er hat sich als Arbeitsminister für einen Mindestlohn in der Pflege eingesetzt.\n",
      "ℹ️ Obwohl der Mindestlohn unter Ursula von der Leyen eingeführt wurde, stimmte seine Unterstützung zu. Aktuell beträgt der Mindestlohn 15,50 Euro. \n",
      "\n",
      "\n",
      "Alice Weidel\n",
      "❌ Wir reißen alle Windkraftwerke nieder!\n",
      "ℹ️ Ein Rückbau von Windkraftanlagen ergibt aus klimatechnischer und betriebswirtschaftlicher Sicht wenig Sinn, da sie emissionsarmen und günstigen Strom produzieren und zur Zielerfüllung des Windenergieflächenbedarfsgesetzes beitragen. \n",
      "\n",
      "\n",
      "Friedrich Merz\n",
      "❌ Windenergie ist nur eine Übergangstechnologie.\n",
      "ℹ️ Windkraft wird in vielen Energiestrategien weltweit als zentral zur Senkung der CO2-Emissionen angesehen und ist kein reiner Übergang, sondern ein dauerhafter Bestandteil diversifizierter erneuerbarer Stromerzeugung. \n",
      "\n",
      "\n",
      "Alice Weidel\n",
      "❌ Effizienz der Windkraftanlagen ist nicht ausreichend.\n",
      "ℹ️ Die energetische Effizienz von Windkraftanlagen liegt im Vergleich zu Photovoltaikanlagen höher, und die Kosten pro Kilowattstunde sind im Vergleich zu anderen Energien niedrig. Die uneinheitliche Windverfügbarkeit wird durch den Kapazitätsfaktor reflektiert, der bei Windkraftanlagen günstig ist. \n",
      "\n",
      "\n",
      "Alice Weidel\n",
      "✅ Windenergie ist nicht wettbewerbsfähig und benötigt Subventionen.\n",
      "ℹ️ Windenergie wird gefördert, um den Anteil erneuerbarer Energien zu erhöhen, wobei es bereits Projekte gibt, die ohne staatliche Unterstützung auskommen. Subventionen sind jedoch weiterhin wichtig, um die gesetzten Klimaziele zu erreichen. \n",
      "\n",
      "\n",
      "Olaf Scholz\n",
      "❌ Im Januar 2025 gab es den niedrigsten Wert an Asylgesuchen seit 2016.\n",
      "ℹ️ Die Aussage lässt sich aufgrund fehlender Daten nur bedingt überprüfen. Für Januar-Werte ist sie, abgesehen von einem Covid-Ausreißer 2021, korrekt. Für die Gesamtjahre seit 2016 gibt es aber niedrigere Monatswerte. \n",
      "\n",
      "\n",
      "Olaf Scholz\n",
      "✅ Wir haben die Abschiebungen um 70 Prozent gesteigert, seitdem ich Kanzler bin.\n",
      "ℹ️ Die Zahl der Abschiebungen ist tatsächlich um rund 67 Prozent gestiegen, allerdings fehlte dem Claim der Kontext der Corona-Pandemie, in der die Zahl der Abschiebungen stark gesunken war. \n",
      "\n",
      "\n",
      "Friedrich Merz\n",
      "❌ In Deutschland gibt es eine Insolvenzwelle wie nie in den letzten 15 Jahren mit 50.000 Unternehmen in Insolvenz während Scholz' Amtszeit.\n",
      "ℹ️ Obwohl die Zahl von 50.000 Insolvenzen korrekt ist, gab es in den letzten 15 Jahren mehrfach Jahre mit höheren Insolvenzzahlen. Höchststände gab es in 2010 und 2011. \n",
      "\n",
      "\n",
      "Friedrich Merz\n",
      "❌ Deutschland befindet sich im dritten Jahr einer Rezession, das gab es noch nie.\n",
      "ℹ️ Deutschland ist in den letzten zwei Jahren in einer Rezession, aber es gibt keine Daten für 2025, um die Aussage mit Sicherheit zu treffen. Eine dreijährige Rezession wäre ein Novum. \n",
      "\n",
      "\n",
      "Olaf Scholz\n",
      "✅ Deutschland ist der größte Unterstützer der Ukraine in Europa.\n",
      "ℹ️ Deutschland ist der größte Unterstützer der Ukraine in Europa in Bezug auf militärische und humanitäre Hilfe, aber bei finanziellen Hilfen gemessen am BIP liegt Deutschland nur auf Platz 17. \n",
      "\n",
      "\n",
      "Donald Trump\n",
      "❌ USAID bezahlt Hollywood-Stars, um in die Ukraine zu reisen und sich mit Präsident Selenskyj zu treffen.\n",
      "ℹ️ Es gibt keine Beweise für USAID-Zahlungen an Schauspieler wie Angelina Jolie, Sean Penn oder Ben Stiller für Reisen in die Ukraine. Das Video, das diese Behauptungen macht, wurde gefälscht. \n",
      "\n",
      "\n",
      "Donald Trump\n",
      "❌ USAID hat Politico acht Millionen US-Dollar bezahlt, um positive Geschichten über die Demokraten zu schreiben.\n",
      "ℹ️ USAID hat nur 24.000 US-Dollar für Politico-Abonnements ausgegeben. Die Behauptungen über staatliche Fördergelder an Medien sind falsch. \n",
      "\n",
      "\n",
      "Elon Musk\n",
      "❌ Alice Weidel ist die derzeit führende und beliebteste Kandidatin für die Bundestagswahl in Deutschland.\n",
      "ℹ️ Laut aktuellen Umfragen liegt die Union (CDU/CSU) an der Spitze, und Weidel rangiert nicht auf Platz eins der Zufriedenheitsbewertung der Kanzlerkandidaten. \n",
      "\n",
      "\n",
      "Alice Weidel\n",
      "❌ Angela Merkel hat 2015 die deutschen Grenzen für illegale Einwanderung geöffnet.\n",
      "ℹ️ Im Schengenraum gab es keine geschlossenen Grenzen, die geöffnet werden konnten. \n",
      "\n",
      "\n",
      "Alice Weidel\n",
      "❌ Es gibt in Deutschland eine explodierende Kriminalitätsrate.\n",
      "ℹ️ Die Kriminalitätsrate stieg 2023 um fünf Prozent, lag aber deutlich niedriger als 2015 und 2016. \n",
      "\n",
      "\n",
      "Elon Musk\n",
      "❌ Diebstahl von Waren im Wert unter 1.000 US-Dollar ist in Kalifornien quasi legal.\n",
      "ℹ️ Diebstahl im Wert von 950 US-Dollar oder weniger ist ein Vergehen, aber nicht legal. Geldstrafen und Haft sind möglich. \n",
      "\n",
      "\n",
      "Alice Weidel\n",
      "❌ Adolf Hitler war ein Kommunist.\n",
      "ℹ️ Hitler und seine Partei vertraten eine rechte, rassistische Ideologie, nicht den Sozialismus oder Kommunismus. \n",
      "\n",
      "\n",
      "Alice Weidel\n",
      "❌ Die AfD ist eine libertäre und konservative Partei.\n",
      "ℹ️ Der Verfassungsschutz betrachtet die AfD als rechtsextremistischen Verdachtsfall; mehrere Landesverbände sind als rechtsextremistisch eingestuft. \n",
      "\n",
      "\n",
      "Alice Weidel\n",
      "❌ Die AfD schützt jüdisches Leben in Deutschland.\n",
      "ℹ️ Vertreter der jüdischen Gemeinschaft sehen die AfD als antisemitisch und gefährlich für Juden in Deutschland. \n",
      "\n",
      "\n",
      "Alice Weidel\n",
      "❌ Deutschland ist das einzige Industrieland, das aus der Atomenergie ausgestiegen ist.\n",
      "ℹ️ Italien, Belgien und Spanien planen oder haben bereits den Atomausstieg. \n",
      "\n",
      "\n",
      "Alice Weidel\n",
      "❌ Atomenergie ist komplett frei vom Treibhausgas CO2.\n",
      "ℹ️ Atomenergie hat niedrige, aber nicht null CO2-Emissionen. \n",
      "\n",
      "\n",
      "Alice Weidel\n",
      "❌ Deutschland hat die höchsten Steuern von allen OECD-Ländern.\n",
      "ℹ️ Deutschland hat bei einigen Haushaltstypen die zweithöchste Steuerbelastung, liegt aber insgesamt nicht an der Spitze. \n",
      "\n",
      "\n",
      "Alice Weidel\n",
      "❌ Der Digital Service Act der EU ist ein Zensurwerkzeug.\n",
      "ℹ️ Der DSA zielt darauf ab, strafbare Inhalte schneller zu entfernen, nicht auf Zensur. \n",
      "\n",
      "\n",
      "Alice Weidel\n",
      "❌ 150 EU-Bürokraten hörten ihr Gespräch mit Musk, um den DSA durchzusetzen.\n",
      "ℹ️ Nur zwei bis drei Mitarbeiter überwachten das Gespräch im Rahmen der allgemeinen Systemüberwachung des DSA. \n",
      "\n",
      "\n",
      "Friedrich Merz\n",
      "❌ Vollziehbar Ausreisepflichtige sollen in Haft genommen werden und es gibt genügend leerstehende Kasernen für die Unterbringung.\n",
      "ℹ️ Die Umsetzung ist rechtlich und logistisch komplex. Viele vollziehbar Ausreisepflichtige erfüllen nicht die rechtlichen Voraussetzungen für Abschiebehaft, und die verfügbare Anzahl geeigneter Immobilien ist unklar. Zudem sind leerstehende Kasernen grundsätzlich nicht bekannt. \n",
      "\n",
      "\n",
      "Konstantin von Notz\n",
      "❌ AfD verwendet SS-Symbole in Wahlplakat.\n",
      "ℹ️ Das AfD-Plakat ist echt, jedoch stammen die Symbole aus einer Stockfoto-Illustration von Getty Images und wurden nicht gezielt eingebaut. \n",
      "\n",
      "\n",
      "Karl Lauterbach\n",
      "✅ KI-generiertes AfD-Video stellt politische Gegner als Verbrecher dar.\n",
      "ℹ️ Das Video zeigt Lauterbach, wie er von Polizisten abgeführt wird und nutzt rassistische Stereotype. Lauterbach bezeichnet dies als Verbreitung von Hass. \n",
      "\n",
      "\n",
      "Elon Musk\n",
      "❌ Nur die AfD kann Deutschland retten.\n",
      "ℹ️ Dieser Ausdruck wird als übertrieben angesehen und ignoriert die Komplexität der politischen Landschaft in Deutschland. \n",
      "\n",
      "\n",
      "Elon Musk\n",
      "❌ Weidel und Musk haben Hitler als Kommunisten umgedeutet.\n",
      "ℹ️ Dies ist historisch inkorrekt, da Adolf Hitler ein Diktator des rechtsextremen Nationalsozialismus war. \n",
      "\n",
      "\n",
      "Elon Musk\n",
      "❌ Er wird von der deutschen Regierung bezahlt, die ihn verurteilen würde, wenn er den Staat kritisiert.\n",
      "ℹ️ Der Satiriker Sebastian Hotz wird von öffentlich-rechtlichen Sendungen bezahlt, die nicht direkt von der Regierung finanziert werden. \n",
      "\n",
      "\n",
      "Elon Musk\n",
      "✅ Höcke wird für das Verbreiten einer Nazi-Parole strafrechtlich verfolgt.\n",
      "ℹ️ Höcke wurde verurteilt, weil er eine verbotene nationalsozialistische Parole verwendet hat. \n",
      "\n",
      "\n",
      "Elon Musk\n",
      "❌ Marie-Thérèse Kaiser wurde aufgrund der Wiederholung von Regierungsstatistiken verurteilt.\n",
      "ℹ️ Sie wurde wegen Volksverhetzung verurteilt, da ihre Aussagen migrationskritisch und tendenziös waren. \n",
      "\n",
      "\n"
     ]
    }
   ],
   "source": [
    "mask_merz = df.person == \"Friedrich Merz\"\n",
    "for _, row in df[mask_relevant_persons].iterrows():\n",
    "    print(row.person)\n",
    "    print(emojify_correct(row.correct), row.claim)\n",
    "    print(\"ℹ️\", row.explanation, \"\\n\\n\")"
   ]
  },
  {
   "cell_type": "code",
   "execution_count": 82,
   "id": "aba46d7d-bbd5-48f0-8b7b-991dd9728c59",
   "metadata": {},
   "outputs": [
    {
     "data": {
      "text/plain": [
       "0     2025-02-20\n",
       "1     2025-02-19\n",
       "2     2025-02-18\n",
       "3     2025-02-12\n",
       "4     2025-02-11\n",
       "5     2025-02-07\n",
       "6     2025-02-07\n",
       "7     2025-02-05\n",
       "8     2025-02-04\n",
       "9     2025-02-04\n",
       "10    2025-02-01\n",
       "11    2025-01-28\n",
       "12    2025-01-24\n",
       "13    2025-01-21\n",
       "Name: date, dtype: object"
      ]
     },
     "execution_count": 82,
     "metadata": {},
     "output_type": "execute_result"
    }
   ],
   "source": [
    "df_news.date.str.slice(0,10)"
   ]
  },
  {
   "cell_type": "code",
   "execution_count": 88,
   "id": "995060da-c7e5-425d-a8ec-649a9122236c",
   "metadata": {},
   "outputs": [
    {
     "data": {
      "text/plain": [
       "Timedelta('30 days 01:33:48.386000')"
      ]
     },
     "execution_count": 88,
     "metadata": {},
     "output_type": "execute_result"
    }
   ],
   "source": [
    "pd.to_datetime(df_news.date).iloc[0] - pd.to_datetime(df_news.date).iloc[-1]"
   ]
  },
  {
   "cell_type": "code",
   "execution_count": 94,
   "id": "0d929e7e-1ddc-4397-822f-0764cbedd3e0",
   "metadata": {},
   "outputs": [
    {
     "name": "stdout",
     "output_type": "stream",
     "text": [
      "['Das Video zeigt eine angebliche Vereidigungszeremonie von AfD-Spitzenkandidatin Alice Weidel als neue Bundeskanzlerin.']\n",
      "[\"Das Video ist eine Fälschung, erstellt mit Künstlicher Intelligenz. Das identische Bewegtbildmaterial des Stabsmusikkorps ist auf YouTube zu finden und zeigt in Wirklichkeit das Spielen des Regimentsgrußes, nicht 'L'amour toujours'.\"]\n"
     ]
    }
   ],
   "source": [
    "print(df[df.person == \"Carla Reveland\"].claim.values)\n",
    "print(df[df.person == \"Carla Reveland\"].explanation.values)"
   ]
  },
  {
   "cell_type": "code",
   "execution_count": null,
   "id": "0d7b5faa-c51b-4bec-be4b-69900af412b4",
   "metadata": {},
   "outputs": [],
   "source": []
  }
 ],
 "metadata": {
  "kernelspec": {
   "display_name": "Python 3 (ipykernel)",
   "language": "python",
   "name": "python3"
  },
  "language_info": {
   "codemirror_mode": {
    "name": "ipython",
    "version": 3
   },
   "file_extension": ".py",
   "mimetype": "text/x-python",
   "name": "python",
   "nbconvert_exporter": "python",
   "pygments_lexer": "ipython3",
   "version": "3.13.1"
  }
 },
 "nbformat": 4,
 "nbformat_minor": 5
}
